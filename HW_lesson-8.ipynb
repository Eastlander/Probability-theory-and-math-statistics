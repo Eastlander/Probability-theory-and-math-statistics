{
 "cells": [
  {
   "cell_type": "code",
   "execution_count": 1,
   "metadata": {},
   "outputs": [],
   "source": [
    "import numpy as np\n",
    "from scipy import stats"
   ]
  },
  {
   "cell_type": "markdown",
   "metadata": {},
   "source": [
    "#### 1. Провести дисперсионный анализ для определения того, есть ли различия среднего роста среди взрослых футболистов, хоккеистов и штангистов. Даны значения роста в трех группах случайно выбранных спортсменов: Футболисты: 173, 175, 180, 178, 177, 185, 183, 182. Хоккеисты: 177, 179, 180, 188, 177, 172, 171, 184, 180. Штангисты: 172, 173, 169, 177, 166, 180, 178, 177, 172, 166, 170."
   ]
  },
  {
   "cell_type": "code",
   "execution_count": 2,
   "metadata": {},
   "outputs": [],
   "source": [
    "# футболисты\n",
    "y1 = np.array([173, 175, 180, 178, 177, 185, 183, 182])\n",
    "\n",
    "# хоккеисты\n",
    "y2 = np.array([177, 179, 180, 188, 177, 172, 171, 184, 180])\n",
    "\n",
    "# штангисты\n",
    "y3 = np.array([172, 173, 169, 177, 166, 180, 178, 177, 172, 166, 170])"
   ]
  },
  {
   "cell_type": "code",
   "execution_count": 5,
   "metadata": {},
   "outputs": [],
   "source": [
    "# Всего значений роста\n",
    "n = len(y1) + len(y2) + len(y3)\n",
    "\n",
    "# кол-во групп\n",
    "k = 3"
   ]
  },
  {
   "cell_type": "markdown",
   "metadata": {},
   "source": [
    "##### Однофакторный дисперсионный анализ"
   ]
  },
  {
   "cell_type": "markdown",
   "metadata": {},
   "source": [
    "Найдём средний рост для каждой профессии."
   ]
  },
  {
   "cell_type": "code",
   "execution_count": 6,
   "metadata": {},
   "outputs": [],
   "source": [
    "y1_mean = np.mean(y1)\n",
    "y2_mean = np.mean(y2)\n",
    "y3_mean = np.mean(y3)"
   ]
  },
  {
   "cell_type": "code",
   "execution_count": 9,
   "metadata": {},
   "outputs": [
    {
     "name": "stdout",
     "output_type": "stream",
     "text": [
      "Средний рост у футболистов - 179.12, хоккеистов - 178.67, штангистов - 172.73\n"
     ]
    }
   ],
   "source": [
    "print(f'Средний рост у футболистов - {y1_mean:.2f}, хоккеистов - {y2_mean:.2f}, штангистов - {y3_mean:.2f}')"
   ]
  },
  {
   "cell_type": "markdown",
   "metadata": {},
   "source": [
    "Предположим, что эти отличия статистически значимы.\n",
    "\n",
    "Для этого нам необходимо собрать все значения роста в общий массив"
   ]
  },
  {
   "cell_type": "code",
   "execution_count": 12,
   "metadata": {},
   "outputs": [],
   "source": [
    "y_general = np.concatenate([y1, y2, y3])"
   ]
  },
  {
   "cell_type": "code",
   "execution_count": 14,
   "metadata": {},
   "outputs": [],
   "source": [
    "# среднее значение роста по общему массиву\n",
    "y_mean = np.mean(y_general)"
   ]
  },
  {
   "cell_type": "code",
   "execution_count": 24,
   "metadata": {},
   "outputs": [],
   "source": [
    "# сумма квадратов отклонений наблюдений от общего среднего\n",
    "s2 = np.sum((y_general - y_mean)**2)\n",
    "\n",
    "# сумма квадратов отклонений средних групповых значений от общего среднего\n",
    "s2_f = ((y1_mean - y_mean)**2) * len(y1) + ((y2_mean - y_mean)**2) *len(y2) + ((y3_mean - y_mean)**2) * len(y3)\n",
    "\n",
    "# остаточная сумма квадратов отклонений\n",
    "s2_res = np.sum((y1 - y1_mean)**2) + np.sum((y2 - y2_mean)**2) + np.sum((y3 - y3_mean)**2)"
   ]
  },
  {
   "cell_type": "code",
   "execution_count": 30,
   "metadata": {},
   "outputs": [
    {
     "name": "stdout",
     "output_type": "stream",
     "text": [
      "    Сумма квадратов отклонений наблюдений от общего среднего равна 830.964\n",
      "    Сумма квадратов отклонений средних групповых значений от общего среднего равна 253.907\n",
      "    Остаточная сумма квадратов отклонений равна 577.057\n"
     ]
    }
   ],
   "source": [
    "print(f'    Сумма квадратов отклонений наблюдений от общего среднего равна {s2:.3f}\\n\\\n",
    "    Сумма квадратов отклонений средних групповых значений от общего среднего равна {s2_f:.3f}\\n\\\n",
    "    Остаточная сумма квадратов отклонений равна {s2_res:.3f}')"
   ]
  },
  {
   "cell_type": "markdown",
   "metadata": {},
   "source": [
    "Проверим соблюдается ли равенство $S^2 = S_F^2 + S_{ост}^2$:"
   ]
  },
  {
   "cell_type": "code",
   "execution_count": 34,
   "metadata": {},
   "outputs": [
    {
     "data": {
      "text/plain": [
       "830.9642857142854"
      ]
     },
     "execution_count": 34,
     "metadata": {},
     "output_type": "execute_result"
    }
   ],
   "source": [
    "s2"
   ]
  },
  {
   "cell_type": "code",
   "execution_count": 35,
   "metadata": {},
   "outputs": [
    {
     "data": {
      "text/plain": [
       "830.964285714286"
      ]
     },
     "execution_count": 35,
     "metadata": {},
     "output_type": "execute_result"
    }
   ],
   "source": [
    "s2_f + s2_res "
   ]
  },
  {
   "cell_type": "code",
   "execution_count": 36,
   "metadata": {},
   "outputs": [],
   "source": [
    "# Общая дисперсия\n",
    "sigma2_general = s2 / (n - 1)\n",
    "\n",
    "# факторная дисперсия\n",
    "sigma2_f = s2_f / (k - 1)\n",
    "\n",
    "# остаточная дисперсия\n",
    "sigma2_res = s2_res / (n - k)"
   ]
  },
  {
   "cell_type": "code",
   "execution_count": 38,
   "metadata": {},
   "outputs": [
    {
     "name": "stdout",
     "output_type": "stream",
     "text": [
      "    Общая дисперсия - 30.776\n",
      "    Факторная дисперсия - 126.954\n",
      "    Остаточная дисперсия - 23.082\n"
     ]
    }
   ],
   "source": [
    "print(f'    Общая дисперсия - {sigma2_general:.3f}\\n\\\n",
    "    Факторная дисперсия - {sigma2_f:.3f}\\n\\\n",
    "    Остаточная дисперсия - {sigma2_res:.3f}')"
   ]
  },
  {
   "cell_type": "markdown",
   "metadata": {},
   "source": [
    "Вычислим $F_H$:"
   ]
  },
  {
   "cell_type": "code",
   "execution_count": 40,
   "metadata": {},
   "outputs": [
    {
     "data": {
      "text/plain": [
       "5.500053450812598"
      ]
     },
     "execution_count": 40,
     "metadata": {},
     "output_type": "execute_result"
    }
   ],
   "source": [
    "F_h = sigma2_f / sigma2_res\n",
    "F_h"
   ]
  },
  {
   "cell_type": "markdown",
   "metadata": {},
   "source": [
    "Найдем значение $F_{крит}$ в таблице критических точек распределения Фишера-Снедекора для заданного уровня значимости $\\alpha = 0.05$ и двух степеней свободы:\n",
    "\n",
    "$df_{межд} = k - 1 = 3 - 1 = 2$ и $df_{внутр} = n - k = 28 - 3 = 25$.\n",
    "\n",
    "Для данных значений $F_{крит} = 3.38$.\n",
    "\n",
    "Так как $F_H$ > $F_{крит}$, различие средних роста спортсменов в трех группах статистически значимо."
   ]
  },
  {
   "cell_type": "markdown",
   "metadata": {},
   "source": [
    "#### Теперь всё то же самое, только с помощью функции f_oneway из модуля scipy"
   ]
  },
  {
   "cell_type": "code",
   "execution_count": 41,
   "metadata": {},
   "outputs": [
    {
     "data": {
      "text/plain": [
       "F_onewayResult(statistic=5.500053450812596, pvalue=0.010482206918698694)"
      ]
     },
     "execution_count": 41,
     "metadata": {},
     "output_type": "execute_result"
    }
   ],
   "source": [
    "stats.f_oneway(y1,y2,y3)"
   ]
  },
  {
   "cell_type": "markdown",
   "metadata": {},
   "source": [
    "#### Делаем вывод, что при уровне значимости $\\alpha = 0.05$ профессия влияет на средний рост."
   ]
  },
  {
   "cell_type": "code",
   "execution_count": null,
   "metadata": {},
   "outputs": [],
   "source": []
  }
 ],
 "metadata": {
  "kernelspec": {
   "display_name": "Python 3",
   "language": "python",
   "name": "python3"
  },
  "language_info": {
   "codemirror_mode": {
    "name": "ipython",
    "version": 3
   },
   "file_extension": ".py",
   "mimetype": "text/x-python",
   "name": "python",
   "nbconvert_exporter": "python",
   "pygments_lexer": "ipython3",
   "version": "3.8.3"
  }
 },
 "nbformat": 4,
 "nbformat_minor": 4
}
