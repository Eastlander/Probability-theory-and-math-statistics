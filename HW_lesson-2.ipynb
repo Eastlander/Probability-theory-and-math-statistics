{
 "cells": [
  {
   "cell_type": "code",
   "execution_count": 1,
   "metadata": {},
   "outputs": [],
   "source": [
    "from math import factorial, exp"
   ]
  },
  {
   "cell_type": "code",
   "execution_count": 2,
   "metadata": {},
   "outputs": [],
   "source": [
    "def combinations(n, k):\n",
    "    return int(factorial(n) / (factorial(k) * factorial(n - k)))"
   ]
  },
  {
   "cell_type": "markdown",
   "metadata": {},
   "source": [
    "#### 1. Вероятность того, что стрелок попадет в мишень, выстрелив один раз, равна 0.8. Стрелок выстрелил 100 раз. Найдите вероятность того, что стрелок попадет в цель ровно 85 раз."
   ]
  },
  {
   "cell_type": "markdown",
   "metadata": {},
   "source": [
    "В этом примере мы имеем биноминальное распределение, вычислять будем по формуле Бернулли"
   ]
  },
  {
   "cell_type": "code",
   "execution_count": 3,
   "metadata": {},
   "outputs": [],
   "source": [
    "n = 100\n",
    "p = 0.8\n",
    "k = 85\n",
    "q = 1 - p\n",
    "P = combinations(n, k) * (p ** k) * (q ** (n-k))"
   ]
  },
  {
   "cell_type": "code",
   "execution_count": 4,
   "metadata": {},
   "outputs": [
    {
     "name": "stdout",
     "output_type": "stream",
     "text": [
      "Вероятность, что стрелок попадет в цель ровно 85 раз при ста выстрелах равна 4.806%\n"
     ]
    }
   ],
   "source": [
    "print (f'Вероятность, что стрелок попадет в цель ровно 85 раз при ста выстрелах равна {P*100:.3f}%')"
   ]
  },
  {
   "cell_type": "markdown",
   "metadata": {},
   "source": [
    "#### 2. Вероятность того, что лампочка перегорит в течение первого дня эксплуатации, равна 0.0004. В жилом комплексе после ремонта в один день включили 5000 новых лампочек. Какова вероятность, что ни одна из них не перегорит в первый день? Какова вероятность, что перегорят ровно две?"
   ]
  },
  {
   "cell_type": "markdown",
   "metadata": {},
   "source": [
    "В этом примере мы имеем крайне малую вероятность появления события, поэтому вычислять следует по формуле Пуассона"
   ]
  },
  {
   "cell_type": "code",
   "execution_count": 5,
   "metadata": {},
   "outputs": [],
   "source": [
    "n = 5000\n",
    "p = 0.0004\n",
    "m = 0\n",
    "l = p * n\n",
    "P = ((l ** m) / factorial(m)) * exp(-l)"
   ]
  },
  {
   "cell_type": "code",
   "execution_count": 6,
   "metadata": {},
   "outputs": [
    {
     "name": "stdout",
     "output_type": "stream",
     "text": [
      "Вероятность, что ни одна новая лампочка не перегорит в первый день равна 13.534%\n"
     ]
    }
   ],
   "source": [
    "print (f'Вероятность, что ни одна новая лампочка не перегорит в первый день равна {P*100:.3f}%')"
   ]
  },
  {
   "cell_type": "code",
   "execution_count": 7,
   "metadata": {},
   "outputs": [],
   "source": [
    "m = 2\n",
    "P = ((l ** m) / factorial(m)) * exp(-l)"
   ]
  },
  {
   "cell_type": "code",
   "execution_count": 8,
   "metadata": {},
   "outputs": [
    {
     "name": "stdout",
     "output_type": "stream",
     "text": [
      "Вероятность, что перегорят две новые лампочки в первый день равна 27.067%\n"
     ]
    }
   ],
   "source": [
    "print (f'Вероятность, что перегорят две новые лампочки в первый день равна {P*100:.3f}%')"
   ]
  },
  {
   "cell_type": "markdown",
   "metadata": {},
   "source": [
    "#### 3. Монету подбросили 144 раза. Какова вероятность, что орел выпадет ровно 70 раз?"
   ]
  },
  {
   "cell_type": "markdown",
   "metadata": {},
   "source": [
    "В этом примере число испытаний не велико, а вероятность выпадания орла достаточна высока, поэтому вернёмся к формуле Бернулли."
   ]
  },
  {
   "cell_type": "code",
   "execution_count": 9,
   "metadata": {},
   "outputs": [],
   "source": [
    "n = 144\n",
    "k = 70\n",
    "p = 0.5  # вероятность наступления события в прочих независимых испытаниях\n",
    "q = 1 - p"
   ]
  },
  {
   "cell_type": "code",
   "execution_count": 10,
   "metadata": {},
   "outputs": [],
   "source": [
    "P = combinations(n, k) * (p ** k) * (q ** (n-k))"
   ]
  },
  {
   "cell_type": "code",
   "execution_count": 11,
   "metadata": {},
   "outputs": [
    {
     "name": "stdout",
     "output_type": "stream",
     "text": [
      "Вероятность выпадания орла на монете при подбросе монеты 144 раза равна 6.281%\n"
     ]
    }
   ],
   "source": [
    "print (f'Вероятность выпадания орла на монете при подбросе монеты 144 раза равна {P*100:.3f}%')"
   ]
  },
  {
   "cell_type": "markdown",
   "metadata": {},
   "source": [
    "#### 4. В первом ящике находится 10 мячей, из которых 7 - белые. Во втором ящике - 11 мячей, из которых 9 белых. Из каждого ящика вытаскивают случайным образом по два мяча. Какова вероятность того, что все мячи белые? Какова вероятность того, что ровно два мяча белые? Какова вероятность того, что хотя бы один мяч белый?"
   ]
  },
  {
   "cell_type": "code",
   "execution_count": 12,
   "metadata": {},
   "outputs": [],
   "source": [
    "a = (combinations(7, 2) / combinations(10, 2)) * (combinations(9, 2) / combinations(11, 2))"
   ]
  },
  {
   "cell_type": "code",
   "execution_count": 13,
   "metadata": {},
   "outputs": [
    {
     "name": "stdout",
     "output_type": "stream",
     "text": [
      "Вероятность того, что все мячи белые равна 30.545%\n"
     ]
    }
   ],
   "source": [
    "print (f'Вероятность того, что все мячи белые равна {a*100:.3f}%')"
   ]
  },
  {
   "cell_type": "code",
   "execution_count": 14,
   "metadata": {},
   "outputs": [],
   "source": [
    "b = (combinations(7, 2) / combinations(10, 2)) * (combinations(2, 2) / combinations(11, 2))"
   ]
  },
  {
   "cell_type": "code",
   "execution_count": 15,
   "metadata": {},
   "outputs": [
    {
     "name": "stdout",
     "output_type": "stream",
     "text": [
      "Вероятность того, что будут два белых мяча из первого ящика и два чёрных из второго  равна 0.848%\n"
     ]
    }
   ],
   "source": [
    "print (f'Вероятность того, что будут два белых мяча из первого ящика и два чёрных из второго  равна {b*100:.3f}%')"
   ]
  },
  {
   "cell_type": "code",
   "execution_count": 16,
   "metadata": {},
   "outputs": [],
   "source": [
    "c = (combinations(7, 1) * combinations(3, 1) / combinations(10, 2)) * (combinations(9, 1) * combinations(2, 1) / combinations(11, 2))"
   ]
  },
  {
   "cell_type": "code",
   "execution_count": 17,
   "metadata": {},
   "outputs": [
    {
     "name": "stdout",
     "output_type": "stream",
     "text": [
      "вероятность достать один белый и один черный шары из первого ящика и также из второго равна 15.273%\n"
     ]
    }
   ],
   "source": [
    "print (f'вероятность достать один белый и один черный шары из первого ящика и также из второго равна {c*100:.3f}%')"
   ]
  },
  {
   "cell_type": "code",
   "execution_count": 18,
   "metadata": {},
   "outputs": [],
   "source": [
    "d = (combinations(3, 2) / combinations(10, 2)) * (combinations(9, 2) / combinations(11, 2))"
   ]
  },
  {
   "cell_type": "code",
   "execution_count": 19,
   "metadata": {},
   "outputs": [
    {
     "name": "stdout",
     "output_type": "stream",
     "text": [
      "Вероятность того, что будут два чёрных мяча из первого ящика и два белых из второго  равна 4.364%\n"
     ]
    }
   ],
   "source": [
    "print (f'Вероятность того, что будут два чёрных мяча из первого ящика и два белых из второго  равна {d*100:.3f}%')"
   ]
  },
  {
   "cell_type": "code",
   "execution_count": 20,
   "metadata": {},
   "outputs": [],
   "source": [
    "two_white = b + c + d"
   ]
  },
  {
   "cell_type": "code",
   "execution_count": 21,
   "metadata": {},
   "outputs": [
    {
     "name": "stdout",
     "output_type": "stream",
     "text": [
      "Вероятность того, что ровно два мяча будут белыми равна 20.485%\n"
     ]
    }
   ],
   "source": [
    "print (f'Вероятность того, что ровно два мяча будут белыми равна {two_white*100:.3f}%')"
   ]
  },
  {
   "cell_type": "markdown",
   "metadata": {},
   "source": [
    "Для последнего вопроса вычислим вероятность того, что все мячи будут чёрными:"
   ]
  },
  {
   "cell_type": "code",
   "execution_count": 22,
   "metadata": {},
   "outputs": [],
   "source": [
    "e = (combinations(3, 2) / combinations(10, 2)) * (combinations(2, 2) / combinations(11, 2))"
   ]
  },
  {
   "cell_type": "markdown",
   "metadata": {},
   "source": [
    "Общая сумма вероятностей равна 1, а все остальные вероятности, кроме последней нас устраивают, следовательно:"
   ]
  },
  {
   "cell_type": "code",
   "execution_count": 23,
   "metadata": {},
   "outputs": [],
   "source": [
    "f = 1 - e"
   ]
  },
  {
   "cell_type": "code",
   "execution_count": 24,
   "metadata": {},
   "outputs": [
    {
     "name": "stdout",
     "output_type": "stream",
     "text": [
      "Вероятность того, что хотя бы один мяч будет белым равна 99.879%\n"
     ]
    }
   ],
   "source": [
    "print (f'Вероятность того, что хотя бы один мяч будет белым равна {f*100:.3f}%')"
   ]
  }
 ],
 "metadata": {
  "kernelspec": {
   "display_name": "Python 3",
   "language": "python",
   "name": "python3"
  },
  "language_info": {
   "codemirror_mode": {
    "name": "ipython",
    "version": 3
   },
   "file_extension": ".py",
   "mimetype": "text/x-python",
   "name": "python",
   "nbconvert_exporter": "python",
   "pygments_lexer": "ipython3",
   "version": "3.8.3"
  }
 },
 "nbformat": 4,
 "nbformat_minor": 4
}
