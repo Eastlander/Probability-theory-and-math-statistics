{
 "cells": [
  {
   "cell_type": "code",
   "execution_count": 1,
   "metadata": {},
   "outputs": [],
   "source": [
    "import numpy as np\n",
    "import seaborn as sns\n",
    "import matplotlib.pyplot as plt"
   ]
  },
  {
   "cell_type": "markdown",
   "metadata": {},
   "source": [
    "#### 1. Даны значения величины заработной платы заемщиков банка (zp) и значения их поведенческого кредитного скоринга (ks): zp = [35, 45, 190, 200, 40, 70, 54, 150, 120, 110], ks = [401, 574, 874, 919, 459, 739, 653, 902, 746, 832]. Используя математические операции, посчитать коэффициенты линейной регрессии, приняв за X заработную плату (то есть, zp - признак), а за y - значения скорингового балла (то есть, ks - целевая переменная). Произвести расчет как с использованием intercept, так и без."
   ]
  },
  {
   "cell_type": "code",
   "execution_count": 2,
   "metadata": {},
   "outputs": [
    {
     "data": {
      "image/png": "[encoded data removed]",
      "text/plain": [
       "<Figure size 432x288 with 1 Axes>"
      ]
     },
     "metadata": {
      "needs_background": "light"
     },
     "output_type": "display_data"
    }
   ],
   "source": [
    "X = np.array([35, 45, 190, 200, 40, 70, 54, 150, 120, 110])\n",
    "y = np.array([401, 574, 874, 919, 459, 739, 653, 902, 746, 832])\n",
    "\n",
    "plt.scatter(X,y)\n",
    "plt.show()"
   ]
  },
  {
   "cell_type": "markdown",
   "metadata": {},
   "source": [
    "Формулы вычисления коэффициентов линейной регрессии:$$b = \\frac{\\overline{yx} - \\overline{y} \\cdot {\\overline{x}}}{\\overline{x^2} - (\\overline{x})^2}$$\n",
    "\n",
    "$$a = \\overline{y} - b \\cdot {\\overline{x}}$$"
   ]
  },
  {
   "cell_type": "code",
   "execution_count": 3,
   "metadata": {},
   "outputs": [],
   "source": [
    "b = (np.mean(X*y) - np.mean(X) * np.mean(y)) / (np.mean(X**2) - np.mean(X)**2)\n",
    "a = np.mean(y) - b * np.mean(X)\n",
    "lr = a + b * X"
   ]
  },
  {
   "cell_type": "code",
   "execution_count": 4,
   "metadata": {},
   "outputs": [
    {
     "name": "stdout",
     "output_type": "stream",
     "text": [
      "Коэффициент линейной регрессии a - 444.177;\n",
      "Коэффициент линейной регрессии b - 2.621;\n",
      "Линейная регрессия - [535.89621821 562.10160703 942.07974498 968.2851338  548.99891262\n",
      " 627.61507909 585.68645697 837.25818968 758.64202321 732.43663439]\n"
     ]
    }
   ],
   "source": [
    "print(f'Коэффициент линейной регрессии a - {a:.3f};\\n\\\n",
    "Коэффициент линейной регрессии b - {b:.3f};\\n\\\n",
    "Линейная регрессия - {lr}')"
   ]
  },
  {
   "cell_type": "code",
   "execution_count": 5,
   "metadata": {},
   "outputs": [],
   "source": [
    "y_pred = a + b * X"
   ]
  },
  {
   "cell_type": "code",
   "execution_count": 6,
   "metadata": {},
   "outputs": [
    {
     "data": {
      "image/png": "[encoded data removed]",
      "text/plain": [
       "<Figure size 432x288 with 1 Axes>"
      ]
     },
     "metadata": {
      "needs_background": "light"
     },
     "output_type": "display_data"
    }
   ],
   "source": [
    "plt.scatter(X,y)\n",
    "plt.plot(X,y_pred)\n",
    "plt.show()"
   ]
  },
  {
   "cell_type": "markdown",
   "metadata": {},
   "source": [
    "С увеличением зарплаты заемщика на 1 единицу значение его поведенческого кредитного скоринга возрастет на 2.62"
   ]
  },
  {
   "cell_type": "markdown",
   "metadata": {},
   "source": [
    "Матричный метод поиска коэффициентов:\n",
    "$$y = \\beta_0 + \\beta_1*x$$"
   ]
  },
  {
   "cell_type": "code",
   "execution_count": 7,
   "metadata": {},
   "outputs": [],
   "source": [
    "X = X.reshape(len(X), 1)\n",
    "y = y.reshape(len(y), 1)"
   ]
  },
  {
   "cell_type": "code",
   "execution_count": 8,
   "metadata": {},
   "outputs": [],
   "source": [
    "# без использования intercept:\n",
    "\n",
    "B = np.dot(np.linalg.inv(np.dot(X.T,X)), X.T@y)"
   ]
  },
  {
   "cell_type": "code",
   "execution_count": 9,
   "metadata": {},
   "outputs": [
    {
     "name": "stdout",
     "output_type": "stream",
     "text": [
      "Коэффициент линейной регрессии без использования intercept - [[5.88982042]]\n"
     ]
    }
   ],
   "source": [
    "print(f'Коэффициент линейной регрессии без использования intercept - {B}')"
   ]
  },
  {
   "cell_type": "code",
   "execution_count": 10,
   "metadata": {},
   "outputs": [],
   "source": [
    "# с использованием intercept:\n",
    "\n",
    "X = np.hstack([np.ones((len(X),1)), X])\n",
    "B = np.dot(np.linalg.inv(np.dot(X.T,X)), X.T@y)"
   ]
  },
  {
   "cell_type": "code",
   "execution_count": 11,
   "metadata": {},
   "outputs": [
    {
     "name": "stdout",
     "output_type": "stream",
     "text": [
      "Коэффициентs линейной регрессии с использованиtv intercept - [[444.17735732]\n",
      " [  2.62053888]]\n"
     ]
    }
   ],
   "source": [
    "print(f'Коэффициентs линейной регрессии с использованиtv intercept - {B}')"
   ]
  },
  {
   "cell_type": "markdown",
   "metadata": {},
   "source": [
    "*Полученные значения коэффициентов равны тем, которые получены способом, использующим уравнение*"
   ]
  },
  {
   "cell_type": "markdown",
   "metadata": {},
   "source": [
    "#### 2. Посчитать коэффициент линейной регрессии при заработной плате (zp), используя градиентный спуск (без intercept). \n",
    "#### *3. Произвести вычисления как в пункте 2, но с вычислением intercept. Учесть, что изменение коэффициентов должно производиться на каждом шаге одновременно (то есть изменение одного коэффициента не должно влиять на изменение другого во время одной итерации)."
   ]
  },
  {
   "cell_type": "code",
   "execution_count": 12,
   "metadata": {},
   "outputs": [],
   "source": [
    "X = np.array([35, 45, 190, 200, 40, 70, 54, 150, 120, 110])\n",
    "y = np.array([401, 574, 874, 919, 459, 739, 653, 902, 746, 832])"
   ]
  },
  {
   "cell_type": "markdown",
   "metadata": {},
   "source": [
    "Формула расчёта без intercept:$$y = \\beta_1 * X$$"
   ]
  },
  {
   "cell_type": "code",
   "execution_count": 13,
   "metadata": {},
   "outputs": [],
   "source": [
    "n = len(y)\n",
    "alfa = 1e-6\n",
    "B1 = 0.1 # стартовое значение"
   ]
  },
  {
   "cell_type": "code",
   "execution_count": 14,
   "metadata": {},
   "outputs": [],
   "source": [
    "def mse_(B1,X=X,y=y,n=n):\n",
    "    return np.sum((B1*X-y)**2)/n"
   ]
  },
  {
   "cell_type": "code",
   "execution_count": 15,
   "metadata": {},
   "outputs": [
    {
     "name": "stdout",
     "output_type": "stream",
     "text": [
      "Iteration: 0, B1=0.25952808, mse=493237.7212546963\n",
      "Iteration: 50, B1=4.497229618367758, mse=83233.94472982832\n",
      "Iteration: 100, B1=5.54537842245223, mse=58151.31823171113\n",
      "Iteration: 150, B1=5.804626485478126, mse=56616.849068093856\n",
      "Iteration: 200, B1=5.868748638669329, mse=56522.97550129376\n",
      "Iteration: 250, B1=5.884608547059329, mse=56517.232638059555\n",
      "Iteration: 300, B1=5.888531320728348, mse=56516.88130936019\n",
      "Iteration: 350, B1=5.889501575592372, mse=56516.85981627392\n",
      "Iteration: 400, B1=5.8897415574471985, mse=56516.85850140053\n",
      "Iteration: 450, B1=5.889800914315978, mse=56516.858420961085\n",
      "Iteration: 500, B1=5.889815595583751, mse=56516.858416040064\n",
      "Iteration: 550, B1=5.889819226833643, mse=56516.858415739014\n",
      "Iteration: 600, B1=5.889820124983314, mse=56516.85841572062\n",
      "Iteration: 650, B1=5.889820347130743, mse=56516.858415719485\n",
      "Iteration: 700, B1=5.889820402076462, mse=56516.85841571941\n",
      "Iteration: 750, B1=5.889820415666681, mse=56516.8584157194\n",
      "Iteration: 800, B1=5.88982041902807, mse=56516.8584157194\n",
      "Iteration: 850, B1=5.889820419859474, mse=56516.8584157194\n",
      "Iteration: 900, B1=5.889820420065112, mse=56516.85841571941\n",
      "Iteration: 950, B1=5.889820420115975, mse=56516.8584157194\n"
     ]
    }
   ],
   "source": [
    "for i in range(1000):\n",
    "    B1 -= alfa * (2/n)*np.sum((B1*X-y)*X)  # B1 -= alfa * mse_p\n",
    "    if i%50==0:\n",
    "        print(f'Iteration: {i}, B1={B1}, mse={mse_(B1)}')"
   ]
  },
  {
   "cell_type": "code",
   "execution_count": 16,
   "metadata": {},
   "outputs": [
    {
     "name": "stdout",
     "output_type": "stream",
     "text": [
      "Коэффициент линейной регрессии равен 5.89\n"
     ]
    }
   ],
   "source": [
    "print('Коэффициент линейной регрессии равен 5.89')"
   ]
  },
  {
   "cell_type": "markdown",
   "metadata": {},
   "source": [
    "Формула с вычислением intercept:$$y = \\beta_0 + \\beta_1 * X$$"
   ]
  },
  {
   "cell_type": "code",
   "execution_count": 17,
   "metadata": {},
   "outputs": [],
   "source": [
    "X = np.array([35, 45, 190, 200, 40, 70, 54, 150, 120, 110])\n",
    "y = np.array([401, 574, 874, 919, 459, 739, 653, 902, 746, 832])"
   ]
  },
  {
   "cell_type": "code",
   "execution_count": 18,
   "metadata": {},
   "outputs": [],
   "source": [
    "alfa = 1e-5\n",
    "B0 = 0.1 # стартовое значение\n",
    "B1 = 0.1 # стартовое значение\n",
    "n = len(y)"
   ]
  },
  {
   "cell_type": "code",
   "execution_count": 19,
   "metadata": {},
   "outputs": [],
   "source": [
    "def mse2_(B0,B1,y=y,X=X,n=len(y)):\n",
    "    return np.sum((B0+B1*X-y)**2)/n"
   ]
  },
  {
   "cell_type": "code",
   "execution_count": 20,
   "metadata": {},
   "outputs": [
    {
     "name": "stdout",
     "output_type": "stream",
     "text": [
      "Iteration: 0, B0=0.1139932, B1=1.6950496217904003, mse=298808.66922912706\n",
      "Iteration: 500000, B0=409.03729808290353, B1=2.8791839426649335, mse=6783.645660253098\n",
      "Iteration: 1000000, B0=441.3964262548758, B1=2.6410076607593775, mse=6472.375938447427\n",
      "Iteration: 1500000, B0=443.9572786511766, B1=2.622158750522415, mse=6470.426487340797\n",
      "Iteration: 2000000, B0=444.15994063146525, B1=2.6206670763125217, mse=6470.414278123679\n",
      "Iteration: 2500000, B0=444.1759789936681, B1=2.6205490274745853, mse=6470.414201658573\n",
      "Iteration: 3000000, B0=444.177248245355, B1=2.620539685268393, mse=6470.414201179681\n",
      "Iteration: 3500000, B0=444.17734869201206, B1=2.620538945940337, mse=6470.41420117668\n"
     ]
    }
   ],
   "source": [
    "for i in range(4000000):\n",
    "    B0 -= alfa*(2/n)*np.sum((B0+B1*X-y))\n",
    "    B1 -= alfa*(2/n)*np.sum((B0+B1*X-y)*X)\n",
    "    if i%500000==0:\n",
    "        print(f'Iteration: {i}, B0={B0}, B1={B1}, mse={mse2_(B0,B1)}')"
   ]
  },
  {
   "cell_type": "code",
   "execution_count": 21,
   "metadata": {},
   "outputs": [
    {
     "name": "stdout",
     "output_type": "stream",
     "text": [
      "Линейная регрессия равна 444.177 + 2.62х\n"
     ]
    }
   ],
   "source": [
    "print('Линейная регрессия равна 444.177 + 2.62х')"
   ]
  },
  {
   "cell_type": "code",
   "execution_count": null,
   "metadata": {},
   "outputs": [],
   "source": []
  }
 ],
 "metadata": {
  "kernelspec": {
   "display_name": "Python 3",
   "language": "python",
   "name": "python3"
  },
  "language_info": {
   "codemirror_mode": {
    "name": "ipython",
    "version": 3
   },
   "file_extension": ".py",
   "mimetype": "text/x-python",
   "name": "python",
   "nbconvert_exporter": "python",
   "pygments_lexer": "ipython3",
   "version": "3.8.3"
  }
 },
 "nbformat": 4,
 "nbformat_minor": 4
}
